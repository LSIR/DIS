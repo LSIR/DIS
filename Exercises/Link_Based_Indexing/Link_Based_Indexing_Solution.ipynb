{
 "cells": [
  {
   "cell_type": "markdown",
   "metadata": {},
   "source": [
    "# Link based ranking\n",
    "\n"
   ]
  },
  {
   "cell_type": "markdown",
   "metadata": {},
   "source": [
    "## 📚 Exercise 1: Page rank  (Eigen-vector method)\n",
    "\n",
    "In the first exercise, we implement the Page Rank algorithm using Eigen vector method.\n",
    "\n",
    "\n",
    "### Goal:\n",
    "1. Implementing Page rank with Eigen-vector method.\n",
    "2. Testing the implemented method on a small Web with three pages (with four different link structures).\n",
    "\n",
    "### What you are learning in this exercise:\n",
    "1. Analyzing the output of PageRank for different link structures."
   ]
  },
  {
   "cell_type": "markdown",
   "metadata": {},
   "source": [
    "**Preliminaries:** If you want to normalize a vector to L1-norm or L2-norm, you can use `numpy` library as follows:"
   ]
  },
  {
   "cell_type": "code",
   "execution_count": null,
   "metadata": {},
   "outputs": [],
   "source": [
    "from __future__ import print_function, division\n",
    "import numpy as np\n",
    "\n",
    "pr = np.array([1,2,3])\n",
    "print(\"L1-norm of {0} is {1}\".format(pr, pr / np.linalg.norm(pr,1)))\n",
    "print(\"L2-norm of {0} is {1}\".format(pr, pr / np.linalg.norm(pr,2)))"
   ]
  },
  {
   "cell_type": "markdown",
   "metadata": {},
   "source": [
    "## Links structure\n",
    "Consider a tiny Web with three pages A, B and C with no inlinks, and with initial PageRank = 1. Initially, none of the pages link to any other pages and none link to them. \n",
    "Run your algorithm for the following cases, and calculate the PageRank for\n",
    "each case:\n",
    "\n",
    "1. Link page A to page B.\n",
    "2. Link all pages to each other.\n",
    "3. Link page A to both B and C, and link pages B and C to A.\n",
    "4. Use the previous links and add a link from page C to page B."
   ]
  },
  {
   "cell_type": "markdown",
   "metadata": {},
   "source": [
    "**Hints:**\n",
    "Please note that for this section, we are using the theoretical PageRank computation (without source of rank). See the slide \"Transition Matrix for Random Walker\" in the lecture notes. Columns of link matrix are from-vertex, rows of link matrix are to-vertex. We take the eigenvector with the largest eigenvalue.\n",
    "We only care about final ranking of the probability vector. You can choose the normalization (or not) of your choice."
   ]
  },
  {
   "cell_type": "code",
   "execution_count": null,
   "metadata": {},
   "outputs": [],
   "source": [
    "def create_Rmatrix(L):\n",
    "#     R = np.multiply(L, 1 / np.sum(L,axis=0)) # Use this matrix multiplication for faster running time if no column is zero\n",
    "    X = np.sum(L,axis=0)\n",
    "    n_nodes = L.shape[0]\n",
    "    R = np.zeros((n_nodes, n_nodes))\n",
    "    for i in range(L.shape[0]):\n",
    "        for j in range(L.shape[1]):\n",
    "            R[i,j] = L[i,j] / X[0,j] if X[0,j] != 0 else 0\n",
    "            \n",
    "#     R = np.multiply(L,R)\n",
    "    return R"
   ]
  },
  {
   "cell_type": "code",
   "execution_count": null,
   "metadata": {},
   "outputs": [],
   "source": [
    "\"\"\"Some time we might want to compute R outside the function to avoid recomputing large matrix\"\"\"\n",
    "def pagerank_eigen(L, R=None):\n",
    "#   Construct transition probability matrix from L\n",
    "    if R is None: R = create_Rmatrix(L)\n",
    "#     Compute eigen-vectors and eigen-values of R\n",
    "    eigenvalues, eigenvectors = np.linalg.eig(R)\n",
    "#     Take the eigen-vector with maximum eigven-value\n",
    "    p = np.absolute(eigenvectors[:,np.argmax(np.absolute(eigenvalues))])\n",
    "    return (R,p)\n"
   ]
  },
  {
   "cell_type": "code",
   "execution_count": null,
   "metadata": {},
   "outputs": [],
   "source": [
    "# Test with a sample case, e.g.\n",
    "L = np.matrix([\n",
    "    [0,1,1], \n",
    "    [1,0,1], \n",
    "    [1,1,0]\n",
    "])\n",
    "R,p = pagerank_eigen(L)\n",
    "print(\"L={0}\\nR={1}\\np={2}\".format(L,R,p))"
   ]
  },
  {
   "cell_type": "markdown",
   "metadata": {},
   "source": [
    "1.Link page A to page B\n",
    "\n",
    "Result:\n",
    "$\n",
    "L =\n",
    "  \\begin{bmatrix}\n",
    "\t0 & 0 & 0 \\\\\n",
    "1 & 0 & 0 \\\\\n",
    "0 & 0 & 0 \\\\\n",
    "  \\end{bmatrix}\n",
    " ,\n",
    "R =\n",
    "  \\begin{bmatrix}\n",
    "\t0 & 0 & 0 \\\\\n",
    "1 & 0 & 0 \\\\\n",
    "0 & 0 & 0 \\\\\n",
    "  \\end{bmatrix}\n",
    "  ,\n",
    "  \\vec{p} =\n",
    "  \\begin{bmatrix}\n",
    "\t0 \\\\\n",
    "1 \\\\\n",
    "0 \\\\\n",
    "  \\end{bmatrix}\n",
    "$"
   ]
  },
  {
   "cell_type": "code",
   "execution_count": null,
   "metadata": {},
   "outputs": [],
   "source": [
    "L = np.matrix([\n",
    "    [0,0,0], \n",
    "    [1,0,0], \n",
    "    [0,0,0]\n",
    "])\n",
    "\n",
    "R,p = pagerank_eigen(L)\n",
    "print(\"L={0}\\nR={1}\\np={2}\".format(L,R,p))"
   ]
  },
  {
   "cell_type": "markdown",
   "metadata": {},
   "source": [
    "2.Link all pages to each other\n",
    "\n",
    "Result:\n",
    "$\n",
    "L =\n",
    "  \\begin{bmatrix}\n",
    "\t0 & 1 & 1 \\\\\n",
    "1 & 0 & 1 \\\\\n",
    "1 & 1 & 0 \\\\\n",
    "  \\end{bmatrix}\n",
    " ,\n",
    "R =\n",
    "  \\begin{bmatrix}\n",
    "\t0 & \\frac{1}{2} & \\frac{1}{2} \\\\\n",
    "\\frac{1}{2} & 0 & \\frac{1}{2} \\\\\n",
    "\\frac{1}{2} & \\frac{1}{2} & 0 \\\\\n",
    "  \\end{bmatrix}\n",
    "  ,\n",
    "  \\vec{p} =\n",
    "  \\begin{bmatrix}\n",
    "\t0.577 \\\\\n",
    "0.577 \\\\\n",
    "0.577 \\\\\n",
    "  \\end{bmatrix}\n",
    "$"
   ]
  },
  {
   "cell_type": "code",
   "execution_count": null,
   "metadata": {},
   "outputs": [],
   "source": [
    "L = np.matrix([\n",
    "    [0,1,1], \n",
    "    [1,0,1], \n",
    "    [1,1,0]\n",
    "])\n",
    "\n",
    "R,p = pagerank_eigen(L)\n",
    "print(\"L={0}\\nR={1}\\np={2}\".format(L,R,p))"
   ]
  },
  {
   "cell_type": "markdown",
   "metadata": {},
   "source": [
    "3.Link page A to both B and C, and link pages B and C to A.\n",
    "\n",
    "Result:\n",
    "$\n",
    "L =\n",
    "  \\begin{bmatrix}\n",
    "\t0 & 1 & 1 \\\\\n",
    "1 & 0 & 0 \\\\\n",
    "1 & 0 & 0 \\\\\n",
    "  \\end{bmatrix}\n",
    " ,\n",
    "R =\n",
    "  \\begin{bmatrix}\n",
    "\t0 & 1 & 1 \\\\\n",
    "\\frac{1}{2} & 0 & 0 \\\\\n",
    "\\frac{1}{2} & 0 & 0 \\\\\n",
    "  \\end{bmatrix}\n",
    "  ,\n",
    "  \\vec{p} =\n",
    "  \\begin{bmatrix}\n",
    "\t0.816 \\\\\n",
    "0.408 \\\\\n",
    "0.408 \\\\\n",
    "  \\end{bmatrix}\n",
    "$"
   ]
  },
  {
   "cell_type": "code",
   "execution_count": null,
   "metadata": {},
   "outputs": [],
   "source": [
    "L = np.matrix([\n",
    "    [0,1,1], \n",
    "    [1,0,0], \n",
    "    [1,0,0]\n",
    "])\n",
    "\n",
    "R,p = pagerank_eigen(L)\n",
    "print(\"L={0}\\nR={1}\\np={2}\".format(L,R,p))"
   ]
  },
  {
   "cell_type": "markdown",
   "metadata": {},
   "source": [
    "4.Use the previous links and add a link from page C to page B\n",
    "\n",
    "Result:\n",
    "$\n",
    "L =\n",
    "  \\begin{bmatrix}\n",
    "\t0 & 1 & 1 \\\\\n",
    "1 & 0 & 1 \\\\\n",
    "1 & 0 & 0 \\\\\n",
    "  \\end{bmatrix}\n",
    " ,\n",
    "R =\n",
    "  \\begin{bmatrix}\n",
    "\t0 & 1 & \\frac{1}{2} \\\\\n",
    "\\frac{1}{2} & 0 & \\frac{1}{2} \\\\\n",
    "\\frac{1}{2} & 0 & 0 \\\\\n",
    "  \\end{bmatrix}\n",
    "  ,\n",
    "  \\vec{p} =\n",
    "  \\begin{bmatrix}\n",
    "\t0.743 \\\\\n",
    "0.557 \\\\\n",
    "0.371 \\\\\n",
    "  \\end{bmatrix}\n",
    "$"
   ]
  },
  {
   "cell_type": "code",
   "execution_count": null,
   "metadata": {},
   "outputs": [],
   "source": [
    "L = np.matrix([\n",
    "    [0,1,1], \n",
    "    [1,0,1], \n",
    "    [1,0,0]\n",
    "])\n",
    "\n",
    "R,p = pagerank_eigen(L)\n",
    "print(\"L={0}\\nR={1}\\np={2}\".format(L,R,p))"
   ]
  },
  {
   "cell_type": "markdown",
   "metadata": {},
   "source": [
    "## 📚 Exercise 2: Page rank  (Iterative method)\n",
    "\n",
    "In the second exercise, we implement the Page Rank algorithm with an iterative approach.\n",
    "\n",
    "\n",
    "### Goal:\n",
    "1. Implementing Page rank with the iterative method.\n",
    "2. Reading the `ca-GrQc.txt` dataset and constructing its link matrix\n",
    "3. Testing the implemented algorithm on the constructed link matrix\n",
    "4. comparing the run-time of iterative method and eigen-vector method.\n",
    "\n",
    "### What you are learning in this exercise:\n",
    "1. Benefits of the iterative approach over eigen-vector method."
   ]
  },
  {
   "cell_type": "markdown",
   "metadata": {},
   "source": [
    "The eigen-vector method has some numerical issues (when computing eigen-vector) and not scalable with large datasets.\n",
    "\n",
    "We will apply the iterative method in the slide \"Practical Computation of PageRank\" of the lecture.\n",
    "\n",
    "Dataset for practice: https://snap.stanford.edu/data/ca-GrQc.html. It is available within the same paths of this notebook."
   ]
  },
  {
   "cell_type": "code",
   "execution_count": null,
   "metadata": {},
   "outputs": [],
   "source": [
    "def pagerank_iterative(L, R=None):\n",
    "    if R is None: #We might want to compute R outside this function to avoid recomputing large matrix\n",
    "        R = np.multiply(L, 1 / np.sum(L,axis=0))\n",
    "        \n",
    "    N = R.shape[0]\n",
    "    e = np.ones(shape=(N,1))\n",
    "    q = 0.9\n",
    "\n",
    "    p = e\n",
    "    delta = 1\n",
    "    epsilon = 0.001\n",
    "    i = 0\n",
    "    while delta > epsilon:\n",
    "        p_prev = p\n",
    "        p = np.matmul(q * R, p_prev)\n",
    "        p = p + (1-q) / N * e\n",
    "        delta = np.linalg.norm(p-p_prev,1)\n",
    "        i += 1\n",
    "\n",
    "    print(\"Converged after {0} iterations\".format(i))\n",
    "    return R,p"
   ]
  },
  {
   "cell_type": "markdown",
   "metadata": {},
   "source": [
    "### Construct link matrix from dataset"
   ]
  },
  {
   "cell_type": "code",
   "execution_count": null,
   "metadata": {},
   "outputs": [],
   "source": [
    "n_nodes = 0\n",
    "nodes_idx = dict() #Since the nodeIDs are not from 0 to N we need to build an index of nodes\n",
    "nodes = [] #We also want to store nodeIDs to return the result of ranking vector\n",
    "\n",
    "# Read the nodes\n",
    "with open(\"ca-GrQc.txt\") as f:\n",
    "    for line in f:\n",
    "        if '#' not in line:\n",
    "            source = int(line.split()[0])\n",
    "            target = int(line.split()[1])\n",
    "            if source not in nodes_idx.keys():\n",
    "                nodes_idx[source] = n_nodes\n",
    "                nodes.append(source)\n",
    "                n_nodes += 1\n",
    "            if target not in nodes_idx.keys():\n",
    "                nodes_idx[target] = n_nodes\n",
    "                nodes.append(target)\n",
    "                n_nodes += 1\n",
    "print(n_nodes)\n",
    "print(nodes[:3])\n",
    "\n",
    "\n",
    "L = np.zeros((n_nodes, n_nodes))\n",
    "# Read the edges\n",
    "with open(\"ca-GrQc.txt\") as f:\n",
    "    for line in f:\n",
    "        if \"#\" not in line:\n",
    "            source = int(line.split()[0])\n",
    "            target = int(line.split()[1])\n",
    "            L[nodes_idx[target], nodes_idx[source]] = 1 #Columns of link matrix are from-vertices\n",
    "print(L)"
   ]
  },
  {
   "cell_type": "markdown",
   "metadata": {},
   "source": [
    "## Comparing the run-time of eigen-vector and iterative methods"
   ]
  },
  {
   "cell_type": "markdown",
   "metadata": {},
   "source": [
    "### You will see that eigen-vector method is slow and has some numerical issues\n"
   ]
  },
  {
   "cell_type": "markdown",
   "metadata": {},
   "source": [
    "#### First we pre-compute the R matrix and pass it as argument to Page rank algorithms."
   ]
  },
  {
   "cell_type": "code",
   "execution_count": null,
   "metadata": {},
   "outputs": [],
   "source": [
    "R = np.multiply(L, 1 / np.sum(L,axis=0))  # note that this doesn't handle zero columns\n",
    "print(R)"
   ]
  },
  {
   "cell_type": "code",
   "execution_count": null,
   "metadata": {},
   "outputs": [],
   "source": [
    "import time\n",
    "start_time = time.time()\n",
    "# Run PageRank\n",
    "R,p = pagerank_eigen(L, R)\n",
    "print(\"--- %s seconds ---\" % (time.time() - start_time))\n",
    "print(\"Ranking vector: p={0}\".format(p))"
   ]
  },
  {
   "cell_type": "markdown",
   "metadata": {},
   "source": [
    "### Iterative method"
   ]
  },
  {
   "cell_type": "code",
   "execution_count": null,
   "metadata": {},
   "outputs": [],
   "source": [
    "start_time = time.time()\n",
    "# Run PageRank\n",
    "R, p = pagerank_iterative(L, R)\n",
    "print(\"--- %s seconds ---\" % (time.time() - start_time))\n",
    "print(\"Ranking vector: p={0}\".format(p[:,0]))"
   ]
  },
  {
   "cell_type": "markdown",
   "metadata": {},
   "source": [
    "## Now let's extract top-k nodes from the ranking vector"
   ]
  },
  {
   "cell_type": "code",
   "execution_count": null,
   "metadata": {},
   "outputs": [],
   "source": [
    "arr = np.array(p[:,0])\n",
    "k = 3\n",
    "k_idx = arr.argsort()[-k:][::-1]\n",
    "print(\"Top-{0} nodes: {1}\".format(k, np.array(nodes)[k_idx]))\n",
    "print(\"Their scores: {0}\".format(arr[k_idx]))"
   ]
  },
  {
   "cell_type": "markdown",
   "metadata": {},
   "source": [
    "## 📚 Exercise 3: Ranking Methodology  (Hard)\n",
    "This exercise is theoretical and you don't need to write code for it:\n",
    "\n",
    "1. Give a directed graph, as small as possible, satisfying all the properties mentioned below:\n",
    "\n",
    "    1. There exists a path from node i to node j for all nodes i,j in the directed\n",
    "graph. Recall, with this property the jump to an arbitrary node in PageRank\n",
    "is not required, so that you can set q = 1 (refer lecture slides).\n",
    "\n",
    "    2. HITS authority ranking and PageRank ranking of the graph nodes are different.\n",
    "\n",
    "2. Give intuition/methodology on how you constructed such a directed graph with\n",
    "the properties described in (a).\n",
    "\n",
    "3. Are there specific graph structures with arbitrarily large instances where PageRank\n",
    "ranking and HITS authority ranking are the same?"
   ]
  },
  {
   "cell_type": "markdown",
   "metadata": {},
   "source": [
    "#### You can find the solution in `Solution_Ranking_Methodology.pdf`"
   ]
  },
  {
   "cell_type": "markdown",
   "metadata": {},
   "source": [
    "## 📚 Exercise 4: Hub and Authority\n",
    "\n",
    "In the last exercise, we implement the (iterative) HITS algorithm to calculate the authority and hub scores for this graph.\n",
    "\n",
    "\n",
    "### Goal:\n",
    "1. Implementing HITS algorithm.\n",
    "2. Identifying the best authority and hub nodes for a small graph (part `a`) as well as the `ca-GrQc.txt` dataset (part `b`)"
   ]
  },
  {
   "cell_type": "markdown",
   "metadata": {},
   "source": [
    "### a)\n",
    "\n",
    "Let the adjacency matrix for a graph of four vertices ($n_1$ to $n_4$) be\n",
    "as follows:\n",
    "\n",
    "$\n",
    "A =\n",
    "  \\begin{bmatrix}\n",
    "\t0 & 1 & 1 & 1  \\\\\n",
    "\t0 & 0 & 1 & 1 \\\\\n",
    "\t1 & 0 & 0 & 1 \\\\\n",
    "\t0 & 0 & 0 & 1 \\\\\n",
    "  \\end{bmatrix}\n",
    "$\n",
    "\n",
    "Calculate the authority and hub scores for this graph using the\n",
    "HITS algorithm with k = 6, and identify the best authority and\n",
    "hub nodes. (A non-zero element $A_{ij}$ indicates an edge from $i$ to $j$.)\n",
    "\n",
    "### b)\n",
    "Apply the HITS algorithm to the `ca-GrQc.txt` dataset (the same dataset as for the `Exercise 2`)"
   ]
  },
  {
   "cell_type": "markdown",
   "metadata": {},
   "source": [
    "**Hint:** We follow the slide \"HITS algorithm\" in the lecture. **Denote $x$ as authority vector and $y$ as hub vector**. You can use matrix multiplication for the update steps in the slide \"Convergence of HITS\". Note that rows of adjacency matrix is from-vertex and columns of adjacency matrix is to-vertex."
   ]
  },
  {
   "cell_type": "code",
   "execution_count": null,
   "metadata": {},
   "outputs": [],
   "source": [
    "def hits_iterative(A, k = 10):\n",
    "    N = A.shape[0]\n",
    "    x0, y0 = 1 / (N**0.5) * np.ones(N), 1 / (N**0.5) * np.ones(N)\n",
    "    xprev, yprev = x0, y0\n",
    "    delta1 = delta2 = 1\n",
    "    epsilon = 0.001 # We can strictly check for convergence rate of HITS algorithm\n",
    "    l = 0\n",
    "    while l < k and delta1 > epsilon and delta2 > epsilon:\n",
    "        y = np.matmul(A, xprev)\n",
    "        x = np.matmul(np.transpose(A), y) \n",
    "        x = x / np.linalg.norm(x,2)\n",
    "        y = y / np.linalg.norm(y,2)\n",
    "        delta1 = np.linalg.norm(x-xprev,1)\n",
    "        delta2 = np.linalg.norm(y-yprev,1)\n",
    "        xprev = x\n",
    "        yprev = y\n",
    "        l += 1\n",
    "    \n",
    "    print(\"Ran a total of {0} iterations with the convergence rate delta1, delta2={1},{2}\".format(l, delta1, delta2))\n",
    "    return xprev, yprev"
   ]
  },
  {
   "cell_type": "markdown",
   "metadata": {},
   "source": [
    "### Part `a` dataset"
   ]
  },
  {
   "cell_type": "code",
   "execution_count": null,
   "metadata": {},
   "outputs": [],
   "source": [
    "A=np.array([\n",
    "    [0, 1, 1, 1], \n",
    "    [0, 0, 1, 1], \n",
    "    [1, 0, 0, 1],\n",
    "    [0, 0, 0, 1],\n",
    "])\n",
    "x, y = hits_iterative(A, k=6)\n",
    "print(\"Result using iterative method:\\n Authoriy vector x={0}\\n Hub vector y={1}\".format(x, y))"
   ]
  },
  {
   "cell_type": "markdown",
   "metadata": {},
   "source": [
    "**Details:**\n",
    "+ Initialization: \n",
    "  \n",
    "  $x_0 = \\frac{1}{4^2}(1,1,1,1) = ( 0.0625,  0.0625,  0.0625,  0.0625)$\n",
    "  \n",
    "  $y_0 = \\frac{1}{4^2}(1,1,1,1) = ( 0.0625,  0.0625,  0.0625,  0.0625)$\n",
    "  \n",
    "+ $k=1$:\n",
    "  \n",
    "  $x_1 = \\frac{A^t y_0}{||A^t y_0||} = (0.21320072,  0.21320072,  0.42640143,  0.85280287)$\n",
    "  \n",
    "  $y_1 = \\frac{A x_0}{|| A x_0 ||} = (0.70710678,  0.47140452,  0.47140452,  0.23570226)$\n",
    "  \n",
    "+ ...:\n",
    "  \n",
    "+ $k=6$:\n",
    "  \n",
    "   $x_6 = \\frac{A^t y_5}{||A^t y_5||} = (0.16887796,  0.27257494,  0.49774555, 0.80587375)$\n",
    "  \n",
    "  $y_6 = \\frac{A x_5}{||A x_5||} = (0.65357971,  0.54153747,  0.40815386,  0.33612671)$\n",
    "  \n",
    "\n",
    "**Conclusion:**\n",
    "+ Best authority node: $n_4$. Best hub node: $n_1$.\n",
    " \n",
    "**Check with the theoretical result (convergence condition):**\n",
    "  \n",
    "+ $x^*$ is the principal eigenvector (i.e. with largest eigenvalue) of $A^t A$: $(0.16845787,  0.27257056,  0.49801119,  0.80579904)$\n",
    "  \n",
    "+ $y^*$ is the principal eigenvector (i.e. with largest eigenvalue) of $A A^t$: $(0.65549599,  0.54215478,  0.4051188,   0.33507008)$"
   ]
  },
  {
   "cell_type": "markdown",
   "metadata": {},
   "source": [
    "### part `b` dataset\n",
    "You can reuse the link matrix $L$ (from Exercise 2) to compute the adjacency matrix $A$ of the dataset"
   ]
  },
  {
   "cell_type": "code",
   "execution_count": null,
   "metadata": {},
   "outputs": [],
   "source": [
    "A = np.transpose(L)\n",
    "print(A)"
   ]
  },
  {
   "cell_type": "markdown",
   "metadata": {},
   "source": [
    "Run HITS algorithm:"
   ]
  },
  {
   "cell_type": "code",
   "execution_count": null,
   "metadata": {},
   "outputs": [],
   "source": [
    "x, y = hits_iterative(A, 100)\n",
    "print(\"Result using iterative method:\\n Authoriy vector x={0}\\n Hub vector y={1}\".format(x, y))"
   ]
  },
  {
   "cell_type": "markdown",
   "metadata": {},
   "source": [
    "**You can see that the two authority vector and hub vector are the same. So the network must be an undirected graph**\n",
    "\n",
    "**Interpret the result:**"
   ]
  },
  {
   "cell_type": "code",
   "execution_count": null,
   "metadata": {},
   "outputs": [],
   "source": [
    "k = 3\n",
    "\n",
    "arr = np.array(x)\n",
    "k_idx = arr.argsort()[-k:][::-1]\n",
    "print(\"Top-{0} authorities: {1}\".format(k, np.array(nodes)[k_idx]))\n",
    "print(\"Their scores: {0}\".format(arr[k_idx]))\n",
    "\n",
    "arr = np.array(y)\n",
    "k_idx = arr.argsort()[-k:][::-1]\n",
    "print(\"Top-{0} hubs: {1}\".format(k, np.array(nodes)[k_idx]))\n",
    "print(\"Their scores: {0}\".format(arr[k_idx]))"
   ]
  },
  {
   "cell_type": "markdown",
   "metadata": {},
   "source": [
    "**We can also use linear algebra property of HITS to compute the result (slide \"Convergence of HITS\"):**.\n",
    "  \n",
    "+ $x^*$ is the principal eigenvector (i.e. with largest eigenvalue) of $A^t A$\n",
    "+ $y^*$ is the principal eigenvector (i.e. with largest eigenvalue) of $A A^t$\n",
    "\n",
    "However, the computation will be much slower"
   ]
  },
  {
   "cell_type": "code",
   "execution_count": null,
   "metadata": {},
   "outputs": [],
   "source": [
    "xstar_ev, xstar = np.linalg.eig(np.matmul(np.transpose(A),A))\n",
    "ystar_ev, ystar = np.linalg.eig(np.matmul(A,np.transpose(A)))\n",
    "xstar, ystar = xstar[:,np.argmax(np.absolute(xstar_ev))], ystar[:,np.argmax(np.absolute(ystar_ev))]\n",
    "# ystar = -xstar if all(xstar<0) else xstar\n",
    "# ystar = -ystar if all(ystar<0) else ystar\n",
    "print(\"Result using linear algebra:\\n Authoriy vector x={0}\\n Hub vector y={1}\".format(xstar, ystar))"
   ]
  },
  {
   "cell_type": "code",
   "execution_count": null,
   "metadata": {},
   "outputs": [],
   "source": []
  }
 ],
 "metadata": {
  "kernelspec": {
   "display_name": "Python 3",
   "language": "python",
   "name": "python3"
  },
  "language_info": {
   "codemirror_mode": {
    "name": "ipython",
    "version": 3
   },
   "file_extension": ".py",
   "mimetype": "text/x-python",
   "name": "python",
   "nbconvert_exporter": "python",
   "pygments_lexer": "ipython3",
   "version": "3.7.4"
  },
  "toc": {
   "base_numbering": 1,
   "nav_menu": {},
   "number_sections": true,
   "sideBar": true,
   "skip_h1_title": true,
   "title_cell": "Table of Contents",
   "title_sidebar": "Contents",
   "toc_cell": false,
   "toc_position": {},
   "toc_section_display": true,
   "toc_window_display": true
  }
 },
 "nbformat": 4,
 "nbformat_minor": 4
}
