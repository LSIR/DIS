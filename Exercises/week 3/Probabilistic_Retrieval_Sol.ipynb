{
 "cells": [
  {
   "cell_type": "markdown",
   "metadata": {},
   "source": [
    "## Probabilistic Retrieval\n",
    "### Question a\n",
    "\\begin{align}\n",
    "P(q|d_j) & = \\frac{P(q \\cap d_j)}{P(d_j)} \\\\\n",
    "& = \\sum_{i=1}^m \\frac{P(q \\cap d_j | k_i) P(k_i)}{P(d_j)} & \\text{using $P(A) = \\sum_B P(A|B) P(B)$} \\\\\n",
    "& = \\sum_{i=1}^m \\frac{P(q|k_i) P(d_j | k_i) P(k_i)}{P(d_j)} & \\text{using conditional independence} \\\\\n",
    "& = \\sum_{i=1}^m P(k_i |d_j) P(q|k_i) & \\text{using Bayes theorem, $P(A|B) = \\frac{P(B|A) P(A)}{P(B)}$}\n",
    "\\end{align}"
   ]
  },
  {
   "cell_type": "markdown",
   "metadata": {},
   "source": [
    "### Question b\n",
    "$P(q|d_1) = \\sum_{i=1}^m P(k_i|d_1) P(q|k_i) = 0 \\times \\frac{1}{5} + \\frac{1}{3} \\times 0 + \\frac{2}{3} \\frac{2}{3} = \\frac{4}{9} = 0.4444$\n",
    "\n",
    "Similarly, for the remaining documents:\n",
    "+ $P(q|d_2) = 1/15 = 0.0666$\n",
    "+ $P(q|d_3) = 11/30 = 0.3666$\n",
    "+ $P(q|d_4) = 3/20 = 0.15$. \n",
    "Thus the final ranking is $d_1, d_3, d_4, d_2$."
   ]
  },
  {
   "cell_type": "markdown",
   "metadata": {},
   "source": [
    "### Question c\n",
    "* Similarity\n",
    " - For retrieval, both approaches aim to measure the relevance between the query q and document $d_i$ by computing $P(q|d_i)$\n",
    "* Diference\n",
    " - They are different in how $P(q|d)$ is computed. In the above, $P(q|d) = \\sum_{i=1}^m P(k_i|d) P(q|k_i)$ while in the lecture $P(q|d) = \\prod_{i=1}^m P(k_i|M_{d}) = \\prod_{i=1}^m \\frac{tf(k_i,d)}{L_d}$"
   ]
  }
 ],
 "metadata": {
  "kernelspec": {
   "display_name": "Python 3",
   "language": "python",
   "name": "python3"
  },
  "language_info": {
   "codemirror_mode": {
    "name": "ipython",
    "version": 3
   },
   "file_extension": ".py",
   "mimetype": "text/x-python",
   "name": "python",
   "nbconvert_exporter": "python",
   "pygments_lexer": "ipython3",
   "version": "3.7.4"
  },
  "toc": {
   "base_numbering": 1,
   "nav_menu": {},
   "number_sections": true,
   "sideBar": true,
   "skip_h1_title": false,
   "title_cell": "Table of Contents",
   "title_sidebar": "Contents",
   "toc_cell": false,
   "toc_position": {},
   "toc_section_display": true,
   "toc_window_display": false
  }
 },
 "nbformat": 4,
 "nbformat_minor": 2
}
