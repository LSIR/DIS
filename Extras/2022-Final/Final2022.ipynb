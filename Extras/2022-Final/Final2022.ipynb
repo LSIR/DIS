{
 "cells": [
  {
   "cell_type": "markdown",
   "metadata": {},
   "source": [
    "# 📘 DIS Final Exam - Fall 2022\n",
    "\n",
    "**🎉 Welcome to DIS Final exam that takes place on the 1st of February 2023 from 15:00 to 18:00.**\n",
    "\n",
    "> Please fill the following info:\n",
    "> - Your Name: \n",
    "> - Your SCIPER:"
   ]
  },
  {
   "cell_type": "markdown",
   "metadata": {},
   "source": [
    "## Answer all the parts of the exam:\n",
    "\n",
    "- [PART 0: Rename your notebook with your SciperNo](#part0)\n",
    "\n",
    "- [PART 1: Multiple Choice Questions - Quiz](#part1)\n",
    "\n",
    "- [PART 2: Theory questions](#part2)\n",
    "\n",
    "- [PART 3: Programming exercise](#part3)\n",
    "\n",
    "    - [3.1: Parse and understand the data](#part31)\n",
    "        - 3.1.1 Create the vocabulary of the documents\n",
    "\n",
    "    - [3.2: Encode documents with Vector Space Retrieval](#part32)\n",
    "        - 3.2.1 Build the term-frequency matrix.\n",
    "        - 3.2.2 Build the inverse document-frequency matrix\n",
    "        - 3.2.3 Vectorize input with Vector Space Model\n",
    "\n",
    "    - [3.3: k-Nearest-Neighbors (kNN)](#part33)\n",
    "        - 3.3.1 Implement kNN function\n",
    "        - 3.3.2 Print k=10 closests documents to the given query\n",
    "        - 3.3.3 Implement probabilistic and weigting estimation of kNN\n",
    "        - 3.3.4 Compute weighting and probabilistic estimation of the given query\n",
    "        - 3.3.5 Implement a Rocchio classifier\n",
    "        - 3.3.6 Compute Rocchio estimation of the given query\n",
    "\n",
    "    - [3.4: Naive Bayes Classifier](#part34)\n",
    "        - 3.4.1 Compute the Naive Bayes estimation for the given query\n",
    "        - 3.4.2 Discuss the difference the above classifers\n",
    "\n",
    "    - [3.5: Association rules](#part35)\n",
    "        - 3.5.1 Compute support and confidence\n",
    "        - 3.5.2 Compute lift\n",
    "        - 3.5.3 Explanation of implemented metrics\n",
    "        \n",
    "- [SUBMIT EXAM](#submit)"
   ]
  },
  {
   "cell_type": "markdown",
   "metadata": {},
   "source": [
    "# 🍀 GOOD LUCK 🍀"
   ]
  },
  {
   "cell_type": "markdown",
   "metadata": {},
   "source": [
    "<a id='part0'></a>\n",
    "## PART 0: Rename your notebook with your SciperNo\n",
    "\n",
    "The final sumbitted file should have the following name: `SciperNo.ipynb`"
   ]
  },
  {
   "cell_type": "markdown",
   "metadata": {},
   "source": [
    "<a id='part1'></a>\n",
    "## PART 1: [Multiple Choice Questions - Quiz](https://moodle.epfl.ch/mod/quiz/view.php?id=1235302)"
   ]
  },
  {
   "cell_type": "markdown",
   "metadata": {},
   "source": [
    "<a id='part2'></a>\n",
    "## PART 2: Theory Questions"
   ]
  },
  {
   "cell_type": "markdown",
   "metadata": {},
   "source": [
    "**Given a document collection with a vocabulary consisting of three words, $V = {a,b,c}$, and two documents $d_1$ = aabc and $d_2 = abc$. The query is $q = ab$.**"
   ]
  },
  {
   "cell_type": "markdown",
   "metadata": {},
   "source": [
    "> **2.1. Using standard vector space retrieval, is it possible to enforce both a ranking $d_1 > d_2$ and $d_2 > d_1$ by adding suitable documents to the collection. If yes, give examples of such documents to be added, if no, provide an argument why this cannot be the case.**"
   ]
  },
  {
   "cell_type": "markdown",
   "metadata": {},
   "source": [
    "**➡️ PLEASE WRITE YOUR ANSWER HERE**\n",
    "\n",
    "Yes, it is possible.\n",
    "\n",
    "    d1>d2: adding d3=”b”\n",
    "    d2>d1: adding d3=”c”\n"
   ]
  },
  {
   "cell_type": "markdown",
   "metadata": {},
   "source": [
    "> **2.2. Using smoothed probabilistic retrieval (with $\\lambda=0.5$), is it possible to enforce both a ranking $d_1 > d_2$ and $d_2 > d_1$ by adding suitable documents to the collection. If yes, give examples of such documents to be added, if no, provide an argument why this cannot be the case.**\n"
   ]
  },
  {
   "cell_type": "markdown",
   "metadata": {},
   "source": [
    "**➡️ PLEASE WRITE YOUR ANSWER HERE**\n",
    "\n",
    "Yes, it is possible.\n",
    "\n",
    "    d1>d2: without adding any document, it holds true\n",
    "    d2>d1: adding d3=”aaaa”\n"
   ]
  },
  {
   "cell_type": "markdown",
   "metadata": {},
   "source": [
    "> **2.3. Is it possible to enforce a ranking $d_2 > d_1$ with vector space retrieval and $d_1 > d_2$ with probabilistic retrieval ($\\lambda=0.5$), by adding the same documents to the collection? If yes, give examples of such documents to be added, if no, provide an argument why this cannot be the case.**"
   ]
  },
  {
   "cell_type": "markdown",
   "metadata": {},
   "source": [
    "**➡️ PLEASE WRITE YOUR ANSWER HERE**\n",
    "\n",
    "Yes, it is possible. Adding a document like d3=”c” would make d2>d1 for   VSR and d1>d2 for smoothed probabilistic retrieval."
   ]
  },
  {
   "cell_type": "markdown",
   "metadata": {},
   "source": [
    "<a id='part3'></a>\n",
    "## PART 3: Programming exercise"
   ]
  },
  {
   "cell_type": "markdown",
   "metadata": {},
   "source": [
    "### 💡 THE BACKSTORY\n",
    "\n",
    "You are given a \"news topic classification\" dataset (`data.csv`), and the task is to apply document classification techniques you've learned during the semester. The goal is to classify news articles based on the topic they refer to.\n",
    "\n",
    "### 📰 THE DATA\n",
    "\n",
    "This dataset contains ~7000 samples of news articles which consists of 3 columns:\n",
    "\n",
    "The first column is `label`, the second is `title` and the third is `description`.\n",
    "\n",
    "The topic labels are numbered 1-4 where `1` represents topic **\"World\"**, `2` represents topic **\"Sports\"**, `3` represents **\"Business\"** and `4` represents **\"Sci/Tech\"**.\n",
    "\n",
    "| Column     | Description                   |\n",
    "|------------|-------------------------------|\n",
    "| **label**  | The topic label/topic id of the article|\n",
    "| **title**  | The title of the article |\n",
    "| **description**  | The description of the article |\n",
    "\n",
    "\n",
    "### ✅ THE TASK\n",
    "\n",
    "You need to build a KNN and a Naive Bayes classifer to classify the articles into the 4 different categories."
   ]
  },
  {
   "cell_type": "markdown",
   "metadata": {},
   "source": [
    "<a id='part31'></a>\n",
    "### 3.1: Parse and understand the data\n",
    "\n",
    "*(1 sub-question)*"
   ]
  },
  {
   "cell_type": "code",
   "execution_count": 1,
   "metadata": {},
   "outputs": [
    {
     "name": "stderr",
     "output_type": "stream",
     "text": [
      "[nltk_data] Downloading package stopwords to\n",
      "[nltk_data]     /Users/foroutan/nltk_data...\n",
      "[nltk_data]   Package stopwords is already up-to-date!\n",
      "[nltk_data] Downloading package punkt to /Users/foroutan/nltk_data...\n",
      "[nltk_data]   Package punkt is already up-to-date!\n"
     ]
    }
   ],
   "source": [
    "# Import libraries- you can additionally import any library you want.\n",
    "import pandas as pd\n",
    "import numpy as np\n",
    "from collections import Counter\n",
    "import math\n",
    "import string\n",
    "import nltk\n",
    "from nltk.corpus import stopwords\n",
    "from nltk.stem import PorterStemmer\n",
    "import matplotlib.pyplot as plt\n",
    "\n",
    "nltk.download('stopwords')\n",
    "nltk.download('punkt')\n",
    "\n",
    "%matplotlib inline"
   ]
  },
  {
   "cell_type": "code",
   "execution_count": 4,
   "metadata": {},
   "outputs": [
    {
     "name": "stdout",
     "output_type": "stream",
     "text": [
      "Number of news articles:  6994\n"
     ]
    },
    {
     "data": {
      "image/png": "[encoded data removed]",
      "text/plain": [
       "<Figure size 500x500 with 1 Axes>"
      ]
     },
     "metadata": {},
     "output_type": "display_data"
    }
   ],
   "source": [
    "# Read a list of documents from a file. Each line in a file is a document\n",
    "data_path = \"data.csv\"\n",
    "data = pd.read_csv(data_path)\n",
    "print(\"Number of news articles: \", len(data))\n",
    "\n",
    "# Plot the distribution of topics\n",
    "labels = data.label.unique()\n",
    "sizes = [Counter(data.label)[i] for i in labels]\n",
    "plt.figure( figsize=(5,5) )\n",
    "plt.pie(sizes ,  labels=labels , autopct='%1.1f%%')\n",
    "plt.show()"
   ]
  },
  {
   "cell_type": "code",
   "execution_count": 5,
   "metadata": {},
   "outputs": [],
   "source": [
    "# Utility functions - NOTHING TO CHANGE HERE\n",
    "stemmer = PorterStemmer()\n",
    "\n",
    "# Tokenize, stem a document\n",
    "def tokenize(text):\n",
    "    text = \"\".join([ch for ch in text if ch not in string.punctuation])\n",
    "    tokens = nltk.word_tokenize(text)\n",
    "    return \" \".join([stemmer.stem(word.lower()) for word in tokens if word not in stopwords.words('english')])\n",
    "\n",
    "# Preprocess articles\n",
    "def preprocess_text(documents):\n",
    "    docs = list()\n",
    "    for doc in documents:\n",
    "        docs.append(tokenize(doc).split())  # tokenize\n",
    "    return docs"
   ]
  },
  {
   "cell_type": "code",
   "execution_count": 6,
   "metadata": {},
   "outputs": [],
   "source": [
    "# Tokenize titles of the articles \n",
    "original_documents = [doc[\"title\"].strip() for _, doc in data.iterrows()]\n",
    "tokenized_documents = preprocess_text(original_documents)\n",
    "documents_topics = list(data.label)"
   ]
  },
  {
   "cell_type": "markdown",
   "metadata": {},
   "source": [
    "> #### 3.1.1 Create the vocabulary of the articles."
   ]
  },
  {
   "cell_type": "code",
   "execution_count": 7,
   "metadata": {},
   "outputs": [],
   "source": [
    "def get_vocabulary_frequency(documents):\n",
    "    \"\"\"\n",
    "    It parses the input documents and creates a dictionary with the terms and term frequencies.\n",
    "    \n",
    "    INPUT:\n",
    "    Doc1: hello hello world\n",
    "    Doc2: hello friend\n",
    "    \n",
    "    OUTPUT:\n",
    "    {'hello': 3,\n",
    "    'world': 1,\n",
    "    'friend': 1}\n",
    "\n",
    "    :param documents: list of list of str, with the tokenized documents.\n",
    "    :return: dict, with keys the words and values the frequency of each word.\n",
    "    \"\"\"\n",
    "    vocabulary = dict()\n",
    "    # --------------\n",
    "    # YOUR CODE HERE\n",
    "    \n",
    "    for document in documents:\n",
    "        for word in document:\n",
    "            if word in vocabulary:\n",
    "                vocabulary[word] += 1\n",
    "            else:\n",
    "                vocabulary[word] = 1\n",
    "\n",
    "    # --------------\n",
    "    return vocabulary"
   ]
  },
  {
   "cell_type": "code",
   "execution_count": 8,
   "metadata": {},
   "outputs": [
    {
     "data": {
      "text/plain": [
       "'Vocabulary Size: 8051'"
      ]
     },
     "execution_count": 8,
     "metadata": {},
     "output_type": "execute_result"
    }
   ],
   "source": [
    "# Create the vocabulary\n",
    "vocabulary = get_vocabulary_frequency(tokenized_documents)\n",
    "f\"Vocabulary Size: {len(vocabulary)}\""
   ]
  },
  {
   "cell_type": "code",
   "execution_count": 9,
   "metadata": {},
   "outputs": [
    {
     "name": "stdout",
     "output_type": "stream",
     "text": [
      "us : 308\n"
     ]
    }
   ],
   "source": [
    "# print the most frequent token\n",
    "voc_sorted_keys = sorted(vocabulary, key=vocabulary.get, reverse=True)\n",
    "print(f\"{voc_sorted_keys[0]} : {vocabulary[voc_sorted_keys[0]]}\")"
   ]
  },
  {
   "cell_type": "markdown",
   "metadata": {},
   "source": [
    "<a id='part32'></a>\n",
    "### PART 3.2: Encode documents with Vector Space Retrieval\n",
    "\n",
    "*(3 sub-questions)*\n",
    "\n",
    "In this part, we will encode/vectorize the documents using the **Vector Space Model**. \n",
    "More specifically:\n",
    "- we will compute the term-frequency matrix **(tf)**\n",
    "- we will compute the inverse document frequency **(idf)**\n",
    "- we will vectorize/encode the articles with **tf-idf**"
   ]
  },
  {
   "cell_type": "markdown",
   "metadata": {},
   "source": [
    "> #### 3.2.1 Build the term-frequency matrix"
   ]
  },
  {
   "cell_type": "code",
   "execution_count": 10,
   "metadata": {},
   "outputs": [],
   "source": [
    "def get_tf(documents, vocabulary):\n",
    "    \"\"\"\n",
    "    It creates the term-frequency matrix with rows the terms of the vocabulary and columns the number of documents.\n",
    "    Each value of the matrix represents the frequency (normalized to document max frequecy) of a term (row) \n",
    "    in a document (column).\n",
    "    Example:\n",
    "    \n",
    "    > INPUT:\n",
    "    documents:\n",
    "    Doc1: hello hello world\n",
    "    Doc2: hello friend\n",
    "    \n",
    "    voc: \n",
    "    [hello, world, friend]\n",
    "    \n",
    "    > OUPUT:    \n",
    "    [[1, 1],\n",
    "    [0.5, 0],\n",
    "    [0, 1]]\n",
    "    \n",
    "    :param documents: list of list of str, with the tokenized documents.\n",
    "    :param vocabulary: dict with the vocabulary (computed in 1.1) and each term's frequency.\n",
    "    :return: np.array with the document-term frequencies\n",
    "    \"\"\"\n",
    "    document_term_freq = np.zeros(shape=(len(vocabulary), len(documents)))\n",
    "    # --------------\n",
    "    # YOUR CODE HERE\n",
    "    for j, document in enumerate(documents):\n",
    "        counter = Counter(document)\n",
    "        max_count = counter.most_common(1)[0][1]\n",
    "        for i, word in enumerate(vocabulary):\n",
    "            if word in counter:\n",
    "                document_term_freq[i,j] = counter[word] / max_count\n",
    "    # --------------\n",
    "    \n",
    "    return document_term_freq"
   ]
  },
  {
   "cell_type": "code",
   "execution_count": 11,
   "metadata": {},
   "outputs": [
    {
     "data": {
      "text/plain": [
       "(8051, 6994)"
      ]
     },
     "execution_count": 11,
     "metadata": {},
     "output_type": "execute_result"
    }
   ],
   "source": [
    "tf = get_tf(tokenized_documents, vocabulary)\n",
    "tf.shape"
   ]
  },
  {
   "cell_type": "markdown",
   "metadata": {},
   "source": [
    "> #### 3.2.2 Build the inverse document-frequency matrix (idf)"
   ]
  },
  {
   "cell_type": "code",
   "execution_count": 12,
   "metadata": {},
   "outputs": [],
   "source": [
    "# compute IDF, storing idf values in a dictionary\n",
    "def get_idf(vocabulary, documents):\n",
    "    \"\"\"\n",
    "    It computes IDF scores, storing idf values in a dictionary.\n",
    "    \n",
    "    :param documents: list of list of str, with the tokenized tweets.\n",
    "    :param vocabulary: dict with the vocabulary (computed in 1.1) and each term's frequency.\n",
    "    :return: dict with the terms as keys and values the idf for each term.\n",
    "    \"\"\"\n",
    "    # --------------\n",
    "    # YOUR CODE HERE\n",
    "    idf = dict()\n",
    "    num_documents = len(documents)\n",
    "    for i, term in enumerate(vocabulary):\n",
    "        idf[term] = math.log(num_documents/sum(term in document for document in documents), math.e)\n",
    "    # --------------\n",
    "    return idf\n"
   ]
  },
  {
   "cell_type": "code",
   "execution_count": 13,
   "metadata": {},
   "outputs": [
    {
     "data": {
      "text/plain": [
       "8051"
      ]
     },
     "execution_count": 13,
     "metadata": {},
     "output_type": "execute_result"
    }
   ],
   "source": [
    "idf = get_idf(vocabulary, tokenized_documents)\n",
    "len(idf)"
   ]
  },
  {
   "cell_type": "markdown",
   "metadata": {},
   "source": [
    "> #### 3.2.3 Vectorization of input with the Vector Space Model"
   ]
  },
  {
   "cell_type": "code",
   "execution_count": 14,
   "metadata": {},
   "outputs": [
    {
     "data": {
      "text/plain": [
       "(6994, 8051)"
      ]
     },
     "execution_count": 14,
     "metadata": {},
     "output_type": "execute_result"
    }
   ],
   "source": [
    "# Function to generate the vector for a document (with normalisation)\n",
    "def vectorize_vsr(document, vocabulary, idf):\n",
    "    \"\"\"\n",
    "    It takes the input text and vectorizes it based on the tf-idf formula.\n",
    "    \n",
    "    :param document: list of str, with the tokenized document\n",
    "    :param vocabulary: dict, with the vocabulary (computed in 1.1) and each term's frequency.\n",
    "    :param idf: dict, with the terms as keys and values the idf for each term.\n",
    "    :return: np.array, with the vectorized document\n",
    "    \"\"\"\n",
    "    # --------------\n",
    "    # YOUR CODE HERE\n",
    "    vector = np.zeros(len(vocabulary))\n",
    "    term_freq = Counter(document)\n",
    "    max_freq = term_freq.most_common(1)[0][1]\n",
    "    for i, term in enumerate(vocabulary):\n",
    "        vector[i] = idf[term] * term_freq[term]/max_freq\n",
    "    # --------------\n",
    "    return vector\n",
    "    \n",
    "vectorized_documents = np.array([vectorize_vsr(s, vocabulary, idf)  for i, s in enumerate(tokenized_documents)])\n",
    "vectorized_documents.shape"
   ]
  },
  {
   "cell_type": "markdown",
   "metadata": {},
   "source": [
    "<a id='part33'></a>\n",
    "### PART 3.3: k-Nearest-Neighbors (kNN)\n",
    "\n",
    "*(7 sub-questions)*\n",
    "\n"
   ]
  },
  {
   "cell_type": "markdown",
   "metadata": {},
   "source": [
    "\n",
    "> #### 3.3.1 Implement kNN function (finding k nearest documents for a given document)"
   ]
  },
  {
   "cell_type": "code",
   "execution_count": 15,
   "metadata": {},
   "outputs": [],
   "source": [
    "def cosine_similarity(v1, v2):\n",
    "    \"\"\"\n",
    "    It computes cosine similarity.\n",
    "    \n",
    "    :param v1: list of floats, with the vector of a document.\n",
    "    :param v2: list of floats, with the vector of a document.\n",
    "    :return: float\n",
    "    \"\"\"\n",
    "    sumxx, sumxy, sumyy = 0, 0, 0\n",
    "    for i in range(len(v1)):\n",
    "        x = v1[i]; y = v2[i]\n",
    "        sumxx += x*x\n",
    "        sumyy += y*y\n",
    "        sumxy += x*y\n",
    "    if sumxy == 0:\n",
    "        sim = 0\n",
    "    else:\n",
    "        sim = sumxy/math.sqrt(sumxx*sumyy)\n",
    "    return sim\n",
    "\n",
    "def euclidean_distance(v1, v2):\n",
    "    \"\"\" It computes the euclidean distance between to vectors.\n",
    "    :param v1: First vector (numpy array).\n",
    "    :param v2: Second vector (numpy array).\n",
    "    :return: Euclidean distance (float)\n",
    "    \"\"\"\n",
    "    return np.linalg.norm(v1 - v2)\n",
    "    \n",
    "def knn(doc_vectors, query_vector, k=10):\n",
    "    \"\"\" It finds the `k` nearest documents to the given query (based on euclidean distance).\n",
    "    :param doc_vectors: An array of document vectors (np.array(np.array)).\n",
    "    :param query_vector: Query representation (np.array)\n",
    "    :return: List of document indices (list(int))\n",
    "    \"\"\"\n",
    "    # --------------\n",
    "    # YOUR CODE HERE\n",
    "    dist_scores = [(i, euclidean_distance(np.array(doc), np.array(query_vector))) for i, doc in enumerate(doc_vectors)]\n",
    "    dist_scores = sorted(dist_scores, key=lambda a: a[1])\n",
    "    top_k_docs = [i for i in list(zip(*dist_scores[0:k]))[0]]\n",
    "    # --------------\n",
    "    return top_k_docs\n",
    "\n"
   ]
  },
  {
   "cell_type": "markdown",
   "metadata": {},
   "source": [
    "> #### 3.3.2 Print k=10 closests documents to the given query"
   ]
  },
  {
   "cell_type": "code",
   "execution_count": 16,
   "metadata": {},
   "outputs": [
    {
     "name": "stdout",
     "output_type": "stream",
     "text": [
      "1 : Microsoft Patches the Patch\n",
      "2 : SpaceShipOne: One down, one to go\n",
      "3 : Oracle, PeopleSoft\n",
      "4 : Olympics: Party, Party, Party - Greece's Parting Gift\n",
      "5 : Oil, stocks both rise\n",
      "6 : Names in the Game\n",
      "7 : Missed target\n",
      "8 : To finish first, first be Finnish\n",
      "9 : Three into two\n",
      "10 : How to keep oil flowing? Invest, invest, invest (AFP)\n"
     ]
    }
   ],
   "source": [
    "query_title = \"Tiny telescope's big discovery opens new doors\" # label = 4\n",
    "\n",
    "query = tokenize(query_title).split()\n",
    "query_vectors = vectorize_vsr(query, vocabulary, idf)\n",
    "\n",
    "top_k_docs = knn(vectorized_documents, query_vectors[0])\n",
    "\n",
    "for k, doc_index in enumerate(top_k_docs):\n",
    "    print(f\"{k+1} : {original_documents[doc_index]}\")"
   ]
  },
  {
   "cell_type": "markdown",
   "metadata": {},
   "source": [
    "> #### 3.3.3 Implement probabilistic and weigting estimation of kNN "
   ]
  },
  {
   "cell_type": "code",
   "execution_count": 17,
   "metadata": {},
   "outputs": [],
   "source": [
    "def knn_weighting_estimate(doc_vectors, doc_labels, query_vector, k=10):\n",
    "    \"\"\" Weighting estimation for kNN classification\n",
    "    :param doc_vectors: Document vectors (np.array(np.array))\n",
    "    :param doc_labels: Document labels/topics (list)\n",
    "    :param query_vector: Query vector (np.array)\n",
    "    :param k: Number of nearest neighbors to retrieve\n",
    "    \n",
    "    :return: A dictionary containing the estimation (sorted) score for each label/topic (dict)\n",
    "    \"\"\"\n",
    "    # --------------\n",
    "    # YOUR CODE HERE\n",
    "    top_k_doc_indices = knn(doc_vectors, query_vector, k)\n",
    "    top_k_labels = [doc_labels[i] for i in top_k_doc_indices]\n",
    "\n",
    "    scores = {t:0 for t in list(set(doc_labels))}\n",
    "    for i in top_k_doc_indices:\n",
    "        scores[doc_labels[i]] += cosine_similarity(query_vector, doc_vectors[i])\n",
    "    # --------------\n",
    "    return scores\n",
    "\n",
    "def knn_probabilistic_estimate(doc_vectors, doc_labels, query_vector, k=10):\n",
    "    \"\"\" Probabilistic estimation for kNN classification\n",
    "    :param doc_vectors: Document vectors (np.array(np.array))\n",
    "    :param doc_labels: Document labels/topics (list)\n",
    "    :param query_vector: Query vector (np.array)\n",
    "    :param k: Number of nearest neighbors to retrieve\n",
    "    \n",
    "    :return: A dictionary containing the estimation (sorted) score for each label/topic (dict)\n",
    "    \"\"\"\n",
    "    # --------------\n",
    "    # YOUR CODE HERE\n",
    "    top_k_doc_indices = knn(doc_vectors, query_vector, k)\n",
    "    top_k_labels = [doc_labels[i] for i in top_k_doc_indices]\n",
    "\n",
    "    scores = {t:0 for t in list(set(doc_labels))}\n",
    "    for i in top_k_doc_indices:\n",
    "        scores[doc_labels[i]] += 1\n",
    "\n",
    "    scores = {t:scores[t] / k for t in scores}\n",
    "    # --------------\n",
    "    return scores\n"
   ]
  },
  {
   "cell_type": "markdown",
   "metadata": {},
   "source": [
    "> #### 3.3.4 Compute weighting and probabilistic estimation of the given query"
   ]
  },
  {
   "cell_type": "code",
   "execution_count": 18,
   "metadata": {},
   "outputs": [
    {
     "name": "stdout",
     "output_type": "stream",
     "text": [
      "Query: (\"Airlines Agree to Cut Flights at Chicago O'Hare\", 3)\n",
      "Weighting estimate: [(3, 0.40466850242282926), (1, 0), (2, 0), (4, 0)]\n",
      "Probabilistic estimate: [(2, 0.4), (3, 0.4), (4, 0.2), (1, 0.0)]\n",
      "*************************************************\n",
      "\n",
      "Query: ('Stuttgart Closing on Qualification', 2)\n",
      "Weighting estimate: [(3, 0.2870546649144036), (2, 0.266082291031066), (4, 0.26170928796986676), (1, 0)]\n",
      "Probabilistic estimate: [(2, 0.4), (3, 0.3), (4, 0.3), (1, 0.0)]\n",
      "*************************************************\n",
      "\n"
     ]
    }
   ],
   "source": [
    "# query_titles = [(\"Hundreds laid off at Fleet offices\", 3), (\"Stuttgart Closing on Qualification\", 2), (\"Shoppach doesn't appear ready to hit the next level\", 2)]\n",
    "query_titles = [(\"Airlines Agree to Cut Flights at Chicago O'Hare\", 3), (\"Stuttgart Closing on Qualification\", 2)]\n",
    "# query_titles = [(\"After Wait, Google Set for Market Debut\", 3), (\"Stuttgart Closing on Qualification\", 2)]\n",
    "# query_titles = [(\"Republican Convention Light on Stars\", 1)]\n",
    "queries = [tokenize(q[0]).split() for q in query_titles] \n",
    "query_vectors = [vectorize_vsr(q, vocabulary, idf) for q in queries]\n",
    "k = 10\n",
    "\n",
    "for i, query_v in enumerate(query_vectors):\n",
    "    print(f\"Query: {query_titles[i]}\")\n",
    "    w_estimate = knn_weighting_estimate(vectorized_documents, documents_topics, query_v, k)\n",
    "    w_estimate = sorted(w_estimate.items(), key=lambda x: x[1], reverse=True)\n",
    "    print(f\"Weighting estimate: {w_estimate}\")\n",
    "   \n",
    "    prob_estimate = knn_probabilistic_estimate(vectorized_documents, documents_topics, query_v, k)\n",
    "    prob_estimate = sorted(prob_estimate.items(), key=lambda x: x[1], reverse=True)\n",
    "    print(f\"Probabilistic estimate: {prob_estimate}\")\n",
    "\n",
    "    print(\"*************************************************\\n\")"
   ]
  },
  {
   "cell_type": "markdown",
   "metadata": {},
   "source": [
    "> #### 3.3.5 Compute weighting and probabilistic estimation of the given query for different values of `k`:\n",
    "\n",
    "Discuss the changes in the results by increasing the value of `k`"
   ]
  },
  {
   "cell_type": "code",
   "execution_count": 19,
   "metadata": {},
   "outputs": [
    {
     "name": "stdout",
     "output_type": "stream",
     "text": [
      "k: 1, w_label = 1, p_label: 4\n",
      "k: 5, w_label = 3, p_label: 3\n",
      "k: 10, w_label = 3, p_label: 2\n",
      "k: 15, w_label = 3, p_label: 3\n",
      "k: 20, w_label = 3, p_label: 3\n"
     ]
    }
   ],
   "source": [
    "# KNN estimation for different values of k (first query)\n",
    "for k in [1, 5, 10, 15, 20]:\n",
    "    w_estimate = knn_weighting_estimate(vectorized_documents, documents_topics, query_vectors[0], k)\n",
    "    w_estimate = sorted(w_estimate.items(), key=lambda x: x[1], reverse=True)\n",
    "    w_label = w_estimate[0][0]\n",
    "\n",
    "    prob_estimate = knn_probabilistic_estimate(vectorized_documents, documents_topics, query_vectors[0], k)\n",
    "    prob_estimate = sorted(prob_estimate.items(), key=lambda x: x[1], reverse=True)\n",
    "    p_label = prob_estimate[0][0]\n",
    "\n",
    "    print(f\"k: {k}, w_label = {w_label}, p_label: {p_label}\")"
   ]
  },
  {
   "cell_type": "markdown",
   "metadata": {},
   "source": [
    "**➡️ PLEASE WRITE YOUR ANSWER HERE**\n"
   ]
  },
  {
   "cell_type": "markdown",
   "metadata": {},
   "source": [
    "> #### 3.3.6 Implement a Rocchio classifier"
   ]
  },
  {
   "cell_type": "code",
   "execution_count": 20,
   "metadata": {},
   "outputs": [],
   "source": [
    "def rocchio_estimate(doc_vectors, doc_labels, query_vector):\n",
    "    \"\"\" \n",
    "    Rocchio classification\n",
    "    :param doc_vectors: Document vectors (np.array(np.array))\n",
    "    :param doc_labels: Document labels/topics (list)\n",
    "    :param query_vector: Query vector (np.array)\n",
    "    \n",
    "    :return: A dictionary containing the estimation score for each label/topic (dict)\n",
    "    \"\"\"\n",
    "    # --------------\n",
    "    # YOUR CODE HERE\n",
    "    topic_to_doc = {t:[] for t in list(set(doc_labels))}\n",
    "    for i, doc in enumerate(doc_vectors):\n",
    "        topic_to_doc[doc_labels[i]].append(np.array(doc))\n",
    "\n",
    "    centroids = {t:sum(topic_to_doc[t]) / len(topic_to_doc[t]) for t in topic_to_doc}\n",
    "    scores = {t:euclidean_distance(centroids[t], query_vector) for t in centroids}\n",
    "    # --------------\n",
    "    return scores\n"
   ]
  },
  {
   "cell_type": "markdown",
   "metadata": {},
   "source": [
    "> #### 3.3.7 Compute Rocchio estimation of the given query"
   ]
  },
  {
   "cell_type": "code",
   "execution_count": 21,
   "metadata": {},
   "outputs": [
    {
     "name": "stdout",
     "output_type": "stream",
     "text": [
      "Rocchio estimate: [(3, 13.007451557333788), (4, 13.07197927312842), (2, 13.084889489152548), (1, 13.08623713524477)]\n"
     ]
    }
   ],
   "source": [
    "roc_estimate = rocchio_estimate(vectorized_documents, documents_topics, query_vectors[0])\n",
    "roc_estimate = sorted(roc_estimate.items(), key=lambda x: x[1])\n",
    "print(f\"Rocchio estimate: {roc_estimate}\")"
   ]
  },
  {
   "cell_type": "markdown",
   "metadata": {},
   "source": [
    "<a id='part34'></a>\n",
    "### PART 3.4: Naive Bayes Classifier\n",
    "\n",
    "*(2 sub-questions)*"
   ]
  },
  {
   "cell_type": "code",
   "execution_count": 22,
   "metadata": {},
   "outputs": [],
   "source": [
    "# Naive Bayes Classifier\n",
    "def get_topic_tf(doc_vectors, doc_labels, vocabulary):\n",
    "    \"\"\" It computes term frequency for each topic/label\n",
    "    :param doc_vectors: Document vectors (np.array(np.array))\n",
    "    :param doc_labels: Document labels/topics (list)\n",
    "    :vocabulary: A dictionary, with keys the words and values the frequency of each word.\n",
    "    :return: A dictionary, with keys the topics/labels and values a dictionary of word frequencies  \n",
    "    \"\"\"\n",
    "    topic_term_freq = {t:{w:0 for w in vocabulary} for t in list(set(doc_labels))}\n",
    "    for i, doc in enumerate(doc_vectors):\n",
    "        counter = Counter(doc)\n",
    "        for word in vocabulary:\n",
    "            if word in counter:\n",
    "                topic_term_freq[doc_labels[i]][word] += counter[word]\n",
    "    return topic_term_freq"
   ]
  },
  {
   "cell_type": "markdown",
   "metadata": {},
   "source": [
    "> #### 3.4.1 Compute the Naive Bayes estimation for the given query"
   ]
  },
  {
   "cell_type": "code",
   "execution_count": 23,
   "metadata": {},
   "outputs": [],
   "source": [
    "def navie_bayes_classifier(tf_dict, query, topics_probs):\n",
    "    \"\"\" Naive Bayes classification\n",
    "    :param tf_dict: A dictionary, with keys the topics/labels and values a dictionary of word frequencies  \n",
    "    :param query: Query vector\n",
    "    :param topics_probs: Probaility distribution of each topic/label (dict)\n",
    "    :return: A dictionary containing the log probability estimation for each topic\n",
    "    \"\"\"\n",
    "    # --------------\n",
    "    # YOUR CODE HERE\n",
    "    log_probabilities = {t:0 for t in tf_dict}\n",
    "    for topic in tf_dict:\n",
    "        prob = 0\n",
    "        for word in query:\n",
    "            if word in tf_dict[topic]: \n",
    "                pw = (tf_dict[topic][word] + 1) / (sum([tf_dict[t][word] for t in tf_dict]) + 1)\n",
    "                prob += math.log(pw)\n",
    "\n",
    "        prob += math.log(topics_probs[topic])\n",
    "        log_probabilities[topic] = prob\n",
    "    # --------------\n",
    "    return log_probabilities"
   ]
  },
  {
   "cell_type": "code",
   "execution_count": 24,
   "metadata": {},
   "outputs": [
    {
     "name": "stdout",
     "output_type": "stream",
     "text": [
      "Naive Bayes Estimation: [(3, -4.8294503149491845), (4, -9.900134971426137), (1, -10.153488856666009), (2, -12.556024509020881)]\n"
     ]
    }
   ],
   "source": [
    "# Compute the probability distribution of topics/labels\n",
    "topics_freq = Counter(documents_topics)\n",
    "topics_probs = {t:topics_freq[t]/len(documents_topics) for t in topics_freq}\n",
    "# Compute word frequency per topic\n",
    "tf_dict = get_topic_tf(tokenized_documents, documents_topics, vocabulary)\n",
    "\n",
    "nb_estimation = navie_bayes_classifier(tf_dict, queries[0], topics_probs)\n",
    "nb_estimation = sorted(nb_estimation.items(), key=lambda x: x[1], reverse=True)\n",
    "print(f\"Naive Bayes Estimation: {nb_estimation}\")"
   ]
  },
  {
   "cell_type": "markdown",
   "metadata": {},
   "source": [
    "> #### 3.4.2 Discuss the difference the above classifers:\n",
    "1. Which kNN classifer is more accurate? Weighting or probabilistic estimation? Why?\n",
    "2. What is the difference between Rocchio and kNN classification?\n",
    "3. When Naive Bayes is prefered over kNN? "
   ]
  },
  {
   "cell_type": "markdown",
   "metadata": {},
   "source": [
    "\n",
    "\n",
    "**➡️ PLEASE WRITE YOUR ANSWER HERE**\n",
    "\n"
   ]
  },
  {
   "cell_type": "markdown",
   "metadata": {},
   "source": [
    "<a id='part35'></a>\n",
    "### PART 3.5: Association Rules\n",
    "*(3 sub-questions)*\n",
    "\n",
    "Now we would like to identify frequent rules that govern how words appear together in the news article **titles**.\n",
    "\n",
    "Using the `tokenized_documents` provided before and by considering the pair of words containing _\"microsoft\"_ (we only consider rules of size 2) do the following:\n",
    "\n",
    "* Compute **support** and **confidence** for the rules `microsoft` -> `X`, where X is a word appearing with microsoft in the title of an article.\n",
    "* From the confidence of the rules you obtained, compute **lift**."
   ]
  },
  {
   "cell_type": "markdown",
   "metadata": {},
   "source": [
    "> **3.5.1 Compute support and confidence for the rules `microsoft` -> `X`, where X is a word appearing with microsoft in the title of an article.**"
   ]
  },
  {
   "cell_type": "code",
   "execution_count": 25,
   "metadata": {},
   "outputs": [],
   "source": [
    "# --------------\n",
    "# YOUR CODE HERE\n",
    "\n",
    "# support    = {}\n",
    "# confidence = {}\n",
    "import copy \n",
    "\n",
    "# find documents that 'microsoft' appears\n",
    "docs_with_microsoft = list()\n",
    "for document in tokenized_documents:\n",
    "    if 'microsoft' in document:\n",
    "        docs_with_microsoft.append(document)\n",
    "        \n",
    "# find the frequency of word 'microsoft'\n",
    "frequency_of_microsoft = len(docs_with_microsoft)\n",
    "\n",
    "#copy vocabulary (to leave the original intact) and remove the microsoft frequency\n",
    "vocabulary_c = copy.deepcopy(vocabulary)\n",
    "vocabulary_c.pop('microsoft')\n",
    "\n",
    "# compute support and confidence for each word in vocabulary\n",
    "support = dict()\n",
    "confidence = dict()\n",
    "for word in vocabulary_c:\n",
    "    frequency_of_microsoft_x = 0\n",
    "    for document in docs_with_microsoft:\n",
    "        if word in document:\n",
    "            frequency_of_microsoft_x += 1\n",
    "    \n",
    "    support[word] = frequency_of_microsoft_x / len(tokenized_documents)\n",
    "    confidence[word] = frequency_of_microsoft_x / frequency_of_microsoft\n",
    "# --------------"
   ]
  },
  {
   "cell_type": "markdown",
   "metadata": {},
   "source": [
    "> **3.5.2 From the confidence of the rules you obtained, compute lift.**"
   ]
  },
  {
   "cell_type": "code",
   "execution_count": 26,
   "metadata": {},
   "outputs": [],
   "source": [
    "# --------------\n",
    "# YOUR CODE HERE\n",
    "\n",
    "# Compute the lift\n",
    "lift = dict()\n",
    "for word in vocabulary_c:\n",
    "    lift[word] = confidence[word] / (vocabulary[word] / len(tokenized_documents))\n",
    "# --------------"
   ]
  },
  {
   "cell_type": "code",
   "execution_count": 27,
   "metadata": {},
   "outputs": [
    {
     "data": {
      "text/plain": [
       "{'search': 0.0014297969688304261,\n",
       " 'window': 0.0012868172719473834,\n",
       " 'music': 0.0012868172719473834}"
      ]
     },
     "execution_count": 27,
     "metadata": {},
     "output_type": "execute_result"
    }
   ],
   "source": [
    "# Show the 3 rules with highest support\n",
    "{k: v for k, v in sorted(support.items(), key=lambda item: item[1], reverse=True)[:3]}"
   ]
  },
  {
   "cell_type": "code",
   "execution_count": 28,
   "metadata": {},
   "outputs": [
    {
     "data": {
      "text/plain": [
       "{'search': 0.06493506493506493,\n",
       " 'window': 0.05844155844155844,\n",
       " 'music': 0.05844155844155844}"
      ]
     },
     "execution_count": 28,
     "metadata": {},
     "output_type": "execute_result"
    }
   ],
   "source": [
    "# Show the 3 rules with highest confidence\n",
    "{k: v for k, v in sorted(confidence.items(), key=lambda item: item[1], reverse=True)[:3]}"
   ]
  },
  {
   "cell_type": "code",
   "execution_count": 29,
   "metadata": {},
   "outputs": [
    {
     "data": {
      "text/plain": [
       "{'hotmail': 45.41558441558441,\n",
       " '2003': 45.41558441558441,\n",
       " 'beta': 45.41558441558441}"
      ]
     },
     "execution_count": 29,
     "metadata": {},
     "output_type": "execute_result"
    }
   ],
   "source": [
    "# Show the 3 rules with highest lift\n",
    "{k: v for k, v in sorted(lift.items(), key=lambda item: item[1], reverse=True)[:3]}"
   ]
  },
  {
   "cell_type": "markdown",
   "metadata": {},
   "source": [
    "## 🔚 END OF EXAM\n",
    "> Don't forget to change the submitted file with your SciperNo as the file name before submitting.\n",
    "\n",
    "<a id='submit'></a>\n",
    "#### [SUBMIT HERE](https://moodle.epfl.ch/mod/quiz/view.php?id=1235303)"
   ]
  },
  {
   "cell_type": "code",
   "execution_count": null,
   "metadata": {},
   "outputs": [],
   "source": []
  },
  {
   "cell_type": "code",
   "execution_count": null,
   "metadata": {},
   "outputs": [],
   "source": []
  }
 ],
 "metadata": {
  "kernelspec": {
   "display_name": "Python 3",
   "language": "python",
   "name": "python3"
  },
  "language_info": {
   "codemirror_mode": {
    "name": "ipython",
    "version": 3
   },
   "file_extension": ".py",
   "mimetype": "text/x-python",
   "name": "python",
   "nbconvert_exporter": "python",
   "pygments_lexer": "ipython3",
   "version": "3.7.3"
  },
  "vscode": {
   "interpreter": {
    "hash": "75fd394e35225182f207b93437350142e41aafd8fa2b11cc1a17258e1fa2f196"
   }
  }
 },
 "nbformat": 4,
 "nbformat_minor": 2
}
